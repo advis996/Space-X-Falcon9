{
 "cells": [
  {
   "cell_type": "markdown",
   "id": "b30acf42",
   "metadata": {},
   "source": [
    "In this lab, we will perform some Exploratory Data Analysis (EDA) to find some patterns in the data and determine what would be the label for training supervised models.\n",
    "\n",
    "In the data set, there are several different cases where the booster did not land successfully. Sometimes a landing was attempted but failed due to an accident; for example, <code>True Ocean</code> means the mission outcome was successfully  landed to a specific region of the ocean while <code>False Ocean</code> means the mission outcome was unsuccessfully landed to a specific region of the ocean. <code>True RTLS</code> means the mission outcome was successfully  landed to a ground pad <code>False RTLS</code> means the mission outcome was unsuccessfully landed to a ground pad.<code>True ASDS</code> means the mission outcome was successfully landed on  a drone ship <code>False ASDS</code> means the mission outcome was unsuccessfully landed on a drone ship.\n",
    "\n",
    "In this lab we will mainly convert those outcomes into Training Labels with `1` means the booster successfully landed `0` means it was unsuccessful."
   ]
  },
  {
   "cell_type": "code",
   "execution_count": 1,
   "id": "17934d27",
   "metadata": {},
   "outputs": [],
   "source": [
    "#True Ocean means the mission outcome was successfully landed to a specific region of the ocean.\n",
    "\n",
    "#False Ocean means the mission outcome was unsuccessfully landed to a specific region of the ocean.\n",
    "\n",
    "#True RTLS means the mission outcome was successfully landed to a ground pad.\n",
    "\n",
    "#False RTLS means the mission outcome was unsuccessfully landed to a ground pad.\n",
    "\n",
    "#True ASDS means the mission outcome was successfully landed on a drone ship.\n",
    "\n",
    "#False ASDS means the mission outcome was unsuccessfully landed on a drone ship."
   ]
  },
  {
   "cell_type": "code",
   "execution_count": 2,
   "id": "9cae6ae2",
   "metadata": {},
   "outputs": [],
   "source": [
    "import pandas as pd\n",
    "import numpy as np "
   ]
  },
  {
   "cell_type": "code",
   "execution_count": 3,
   "id": "e79409c1",
   "metadata": {},
   "outputs": [
    {
     "data": {
      "text/html": [
       "<div>\n",
       "<style scoped>\n",
       "    .dataframe tbody tr th:only-of-type {\n",
       "        vertical-align: middle;\n",
       "    }\n",
       "\n",
       "    .dataframe tbody tr th {\n",
       "        vertical-align: top;\n",
       "    }\n",
       "\n",
       "    .dataframe thead th {\n",
       "        text-align: right;\n",
       "    }\n",
       "</style>\n",
       "<table border=\"1\" class=\"dataframe\">\n",
       "  <thead>\n",
       "    <tr style=\"text-align: right;\">\n",
       "      <th></th>\n",
       "      <th>FlightNumber</th>\n",
       "      <th>Date</th>\n",
       "      <th>BoosterVersion</th>\n",
       "      <th>PayloadMass</th>\n",
       "      <th>Orbit</th>\n",
       "      <th>LaunchSite</th>\n",
       "      <th>Outcome</th>\n",
       "      <th>Flights</th>\n",
       "      <th>GridFins</th>\n",
       "      <th>Reused</th>\n",
       "      <th>Legs</th>\n",
       "      <th>LandingPad</th>\n",
       "      <th>Block</th>\n",
       "      <th>ReusedCount</th>\n",
       "      <th>Serial</th>\n",
       "      <th>Longitude</th>\n",
       "      <th>Latitude</th>\n",
       "    </tr>\n",
       "  </thead>\n",
       "  <tbody>\n",
       "    <tr>\n",
       "      <th>0</th>\n",
       "      <td>1</td>\n",
       "      <td>2010-06-04</td>\n",
       "      <td>Falcon 9</td>\n",
       "      <td>6104.959412</td>\n",
       "      <td>LEO</td>\n",
       "      <td>CCAFS SLC 40</td>\n",
       "      <td>None None</td>\n",
       "      <td>1</td>\n",
       "      <td>False</td>\n",
       "      <td>False</td>\n",
       "      <td>False</td>\n",
       "      <td>NaN</td>\n",
       "      <td>1.0</td>\n",
       "      <td>0</td>\n",
       "      <td>B0003</td>\n",
       "      <td>-80.577366</td>\n",
       "      <td>28.561857</td>\n",
       "    </tr>\n",
       "    <tr>\n",
       "      <th>1</th>\n",
       "      <td>2</td>\n",
       "      <td>2012-05-22</td>\n",
       "      <td>Falcon 9</td>\n",
       "      <td>525.000000</td>\n",
       "      <td>LEO</td>\n",
       "      <td>CCAFS SLC 40</td>\n",
       "      <td>None None</td>\n",
       "      <td>1</td>\n",
       "      <td>False</td>\n",
       "      <td>False</td>\n",
       "      <td>False</td>\n",
       "      <td>NaN</td>\n",
       "      <td>1.0</td>\n",
       "      <td>0</td>\n",
       "      <td>B0005</td>\n",
       "      <td>-80.577366</td>\n",
       "      <td>28.561857</td>\n",
       "    </tr>\n",
       "    <tr>\n",
       "      <th>2</th>\n",
       "      <td>3</td>\n",
       "      <td>2013-03-01</td>\n",
       "      <td>Falcon 9</td>\n",
       "      <td>677.000000</td>\n",
       "      <td>ISS</td>\n",
       "      <td>CCAFS SLC 40</td>\n",
       "      <td>None None</td>\n",
       "      <td>1</td>\n",
       "      <td>False</td>\n",
       "      <td>False</td>\n",
       "      <td>False</td>\n",
       "      <td>NaN</td>\n",
       "      <td>1.0</td>\n",
       "      <td>0</td>\n",
       "      <td>B0007</td>\n",
       "      <td>-80.577366</td>\n",
       "      <td>28.561857</td>\n",
       "    </tr>\n",
       "    <tr>\n",
       "      <th>3</th>\n",
       "      <td>4</td>\n",
       "      <td>2013-09-29</td>\n",
       "      <td>Falcon 9</td>\n",
       "      <td>500.000000</td>\n",
       "      <td>PO</td>\n",
       "      <td>VAFB SLC 4E</td>\n",
       "      <td>False Ocean</td>\n",
       "      <td>1</td>\n",
       "      <td>False</td>\n",
       "      <td>False</td>\n",
       "      <td>False</td>\n",
       "      <td>NaN</td>\n",
       "      <td>1.0</td>\n",
       "      <td>0</td>\n",
       "      <td>B1003</td>\n",
       "      <td>-120.610829</td>\n",
       "      <td>34.632093</td>\n",
       "    </tr>\n",
       "    <tr>\n",
       "      <th>4</th>\n",
       "      <td>5</td>\n",
       "      <td>2013-12-03</td>\n",
       "      <td>Falcon 9</td>\n",
       "      <td>3170.000000</td>\n",
       "      <td>GTO</td>\n",
       "      <td>CCAFS SLC 40</td>\n",
       "      <td>None None</td>\n",
       "      <td>1</td>\n",
       "      <td>False</td>\n",
       "      <td>False</td>\n",
       "      <td>False</td>\n",
       "      <td>NaN</td>\n",
       "      <td>1.0</td>\n",
       "      <td>0</td>\n",
       "      <td>B1004</td>\n",
       "      <td>-80.577366</td>\n",
       "      <td>28.561857</td>\n",
       "    </tr>\n",
       "    <tr>\n",
       "      <th>...</th>\n",
       "      <td>...</td>\n",
       "      <td>...</td>\n",
       "      <td>...</td>\n",
       "      <td>...</td>\n",
       "      <td>...</td>\n",
       "      <td>...</td>\n",
       "      <td>...</td>\n",
       "      <td>...</td>\n",
       "      <td>...</td>\n",
       "      <td>...</td>\n",
       "      <td>...</td>\n",
       "      <td>...</td>\n",
       "      <td>...</td>\n",
       "      <td>...</td>\n",
       "      <td>...</td>\n",
       "      <td>...</td>\n",
       "      <td>...</td>\n",
       "    </tr>\n",
       "    <tr>\n",
       "      <th>85</th>\n",
       "      <td>86</td>\n",
       "      <td>2020-09-03</td>\n",
       "      <td>Falcon 9</td>\n",
       "      <td>15400.000000</td>\n",
       "      <td>VLEO</td>\n",
       "      <td>KSC LC 39A</td>\n",
       "      <td>True ASDS</td>\n",
       "      <td>2</td>\n",
       "      <td>True</td>\n",
       "      <td>True</td>\n",
       "      <td>True</td>\n",
       "      <td>5e9e3032383ecb6bb234e7ca</td>\n",
       "      <td>5.0</td>\n",
       "      <td>2</td>\n",
       "      <td>B1060</td>\n",
       "      <td>-80.603956</td>\n",
       "      <td>28.608058</td>\n",
       "    </tr>\n",
       "    <tr>\n",
       "      <th>86</th>\n",
       "      <td>87</td>\n",
       "      <td>2020-10-06</td>\n",
       "      <td>Falcon 9</td>\n",
       "      <td>15400.000000</td>\n",
       "      <td>VLEO</td>\n",
       "      <td>KSC LC 39A</td>\n",
       "      <td>True ASDS</td>\n",
       "      <td>3</td>\n",
       "      <td>True</td>\n",
       "      <td>True</td>\n",
       "      <td>True</td>\n",
       "      <td>5e9e3032383ecb6bb234e7ca</td>\n",
       "      <td>5.0</td>\n",
       "      <td>2</td>\n",
       "      <td>B1058</td>\n",
       "      <td>-80.603956</td>\n",
       "      <td>28.608058</td>\n",
       "    </tr>\n",
       "    <tr>\n",
       "      <th>87</th>\n",
       "      <td>88</td>\n",
       "      <td>2020-10-18</td>\n",
       "      <td>Falcon 9</td>\n",
       "      <td>15400.000000</td>\n",
       "      <td>VLEO</td>\n",
       "      <td>KSC LC 39A</td>\n",
       "      <td>True ASDS</td>\n",
       "      <td>6</td>\n",
       "      <td>True</td>\n",
       "      <td>True</td>\n",
       "      <td>True</td>\n",
       "      <td>5e9e3032383ecb6bb234e7ca</td>\n",
       "      <td>5.0</td>\n",
       "      <td>5</td>\n",
       "      <td>B1051</td>\n",
       "      <td>-80.603956</td>\n",
       "      <td>28.608058</td>\n",
       "    </tr>\n",
       "    <tr>\n",
       "      <th>88</th>\n",
       "      <td>89</td>\n",
       "      <td>2020-10-24</td>\n",
       "      <td>Falcon 9</td>\n",
       "      <td>15400.000000</td>\n",
       "      <td>VLEO</td>\n",
       "      <td>CCAFS SLC 40</td>\n",
       "      <td>True ASDS</td>\n",
       "      <td>3</td>\n",
       "      <td>True</td>\n",
       "      <td>True</td>\n",
       "      <td>True</td>\n",
       "      <td>5e9e3033383ecbb9e534e7cc</td>\n",
       "      <td>5.0</td>\n",
       "      <td>2</td>\n",
       "      <td>B1060</td>\n",
       "      <td>-80.577366</td>\n",
       "      <td>28.561857</td>\n",
       "    </tr>\n",
       "    <tr>\n",
       "      <th>89</th>\n",
       "      <td>90</td>\n",
       "      <td>2020-11-05</td>\n",
       "      <td>Falcon 9</td>\n",
       "      <td>3681.000000</td>\n",
       "      <td>MEO</td>\n",
       "      <td>CCAFS SLC 40</td>\n",
       "      <td>True ASDS</td>\n",
       "      <td>1</td>\n",
       "      <td>True</td>\n",
       "      <td>False</td>\n",
       "      <td>True</td>\n",
       "      <td>5e9e3032383ecb6bb234e7ca</td>\n",
       "      <td>5.0</td>\n",
       "      <td>0</td>\n",
       "      <td>B1062</td>\n",
       "      <td>-80.577366</td>\n",
       "      <td>28.561857</td>\n",
       "    </tr>\n",
       "  </tbody>\n",
       "</table>\n",
       "<p>90 rows × 17 columns</p>\n",
       "</div>"
      ],
      "text/plain": [
       "    FlightNumber        Date BoosterVersion   PayloadMass Orbit    LaunchSite  \\\n",
       "0              1  2010-06-04       Falcon 9   6104.959412   LEO  CCAFS SLC 40   \n",
       "1              2  2012-05-22       Falcon 9    525.000000   LEO  CCAFS SLC 40   \n",
       "2              3  2013-03-01       Falcon 9    677.000000   ISS  CCAFS SLC 40   \n",
       "3              4  2013-09-29       Falcon 9    500.000000    PO   VAFB SLC 4E   \n",
       "4              5  2013-12-03       Falcon 9   3170.000000   GTO  CCAFS SLC 40   \n",
       "..           ...         ...            ...           ...   ...           ...   \n",
       "85            86  2020-09-03       Falcon 9  15400.000000  VLEO    KSC LC 39A   \n",
       "86            87  2020-10-06       Falcon 9  15400.000000  VLEO    KSC LC 39A   \n",
       "87            88  2020-10-18       Falcon 9  15400.000000  VLEO    KSC LC 39A   \n",
       "88            89  2020-10-24       Falcon 9  15400.000000  VLEO  CCAFS SLC 40   \n",
       "89            90  2020-11-05       Falcon 9   3681.000000   MEO  CCAFS SLC 40   \n",
       "\n",
       "        Outcome  Flights  GridFins  Reused   Legs                LandingPad  \\\n",
       "0     None None        1     False   False  False                       NaN   \n",
       "1     None None        1     False   False  False                       NaN   \n",
       "2     None None        1     False   False  False                       NaN   \n",
       "3   False Ocean        1     False   False  False                       NaN   \n",
       "4     None None        1     False   False  False                       NaN   \n",
       "..          ...      ...       ...     ...    ...                       ...   \n",
       "85    True ASDS        2      True    True   True  5e9e3032383ecb6bb234e7ca   \n",
       "86    True ASDS        3      True    True   True  5e9e3032383ecb6bb234e7ca   \n",
       "87    True ASDS        6      True    True   True  5e9e3032383ecb6bb234e7ca   \n",
       "88    True ASDS        3      True    True   True  5e9e3033383ecbb9e534e7cc   \n",
       "89    True ASDS        1      True   False   True  5e9e3032383ecb6bb234e7ca   \n",
       "\n",
       "    Block  ReusedCount Serial   Longitude   Latitude  \n",
       "0     1.0            0  B0003  -80.577366  28.561857  \n",
       "1     1.0            0  B0005  -80.577366  28.561857  \n",
       "2     1.0            0  B0007  -80.577366  28.561857  \n",
       "3     1.0            0  B1003 -120.610829  34.632093  \n",
       "4     1.0            0  B1004  -80.577366  28.561857  \n",
       "..    ...          ...    ...         ...        ...  \n",
       "85    5.0            2  B1060  -80.603956  28.608058  \n",
       "86    5.0            2  B1058  -80.603956  28.608058  \n",
       "87    5.0            5  B1051  -80.603956  28.608058  \n",
       "88    5.0            2  B1060  -80.577366  28.561857  \n",
       "89    5.0            0  B1062  -80.577366  28.561857  \n",
       "\n",
       "[90 rows x 17 columns]"
      ]
     },
     "execution_count": 3,
     "metadata": {},
     "output_type": "execute_result"
    }
   ],
   "source": [
    "df=pd.read_csv(\"https://cf-courses-data.s3.us.cloud-object-storage.appdomain.cloud/IBM-DS0321EN-SkillsNetwork/datasets/dataset_part_1.csv\")\n",
    "df.head(100)"
   ]
  },
  {
   "cell_type": "code",
   "execution_count": 4,
   "id": "ad7fad3a",
   "metadata": {},
   "outputs": [
    {
     "data": {
      "text/plain": [
       "FlightNumber       0.000\n",
       "Date               0.000\n",
       "BoosterVersion     0.000\n",
       "PayloadMass        0.000\n",
       "Orbit              0.000\n",
       "LaunchSite         0.000\n",
       "Outcome            0.000\n",
       "Flights            0.000\n",
       "GridFins           0.000\n",
       "Reused             0.000\n",
       "Legs               0.000\n",
       "LandingPad        40.625\n",
       "Block              0.000\n",
       "ReusedCount        0.000\n",
       "Serial             0.000\n",
       "Longitude          0.000\n",
       "Latitude           0.000\n",
       "dtype: float64"
      ]
     },
     "execution_count": 4,
     "metadata": {},
     "output_type": "execute_result"
    }
   ],
   "source": [
    "# identify and calculate the percentage of the missing values in each attribute\n",
    "\n",
    "df.isnull().sum()/df.count()*100\n"
   ]
  },
  {
   "cell_type": "code",
   "execution_count": 5,
   "id": "9cd2903e",
   "metadata": {},
   "outputs": [
    {
     "data": {
      "text/plain": [
       "FlightNumber        int64\n",
       "Date               object\n",
       "BoosterVersion     object\n",
       "PayloadMass       float64\n",
       "Orbit              object\n",
       "LaunchSite         object\n",
       "Outcome            object\n",
       "Flights             int64\n",
       "GridFins             bool\n",
       "Reused               bool\n",
       "Legs                 bool\n",
       "LandingPad         object\n",
       "Block             float64\n",
       "ReusedCount         int64\n",
       "Serial             object\n",
       "Longitude         float64\n",
       "Latitude          float64\n",
       "dtype: object"
      ]
     },
     "execution_count": 5,
     "metadata": {},
     "output_type": "execute_result"
    }
   ],
   "source": [
    "# identify which columns are numerical and categorical \n",
    "df.dtypes"
   ]
  },
  {
   "cell_type": "markdown",
   "id": "7ec4dcf0",
   "metadata": {},
   "source": [
    "# TASK 1: Calculate the number of launches on each site"
   ]
  },
  {
   "cell_type": "raw",
   "id": "e9b5b36e",
   "metadata": {},
   "source": [
    "The data contains several Space X launch facilities:\n",
    "(1)Cape Canaveral Space Launch Complex 40 VAFB SLC 4E\n",
    "(2)Vandenberg Air Force Base Space Launch Complex 4E (SLC-4E)\n",
    "(3)Kennedy Space Center Launch Complex 39A KSC LC 39A.\n",
    "\n",
    "The location of each Launch Is placed in the column LaunchSite\n"
   ]
  },
  {
   "cell_type": "code",
   "execution_count": 6,
   "id": "ce3ea51e",
   "metadata": {},
   "outputs": [
    {
     "data": {
      "text/plain": [
       "CCAFS SLC 40    55\n",
       "KSC LC 39A      22\n",
       "VAFB SLC 4E     13\n",
       "Name: LaunchSite, dtype: int64"
      ]
     },
     "execution_count": 6,
     "metadata": {},
     "output_type": "execute_result"
    }
   ],
   "source": [
    "df['LaunchSite'].value_counts()"
   ]
  },
  {
   "cell_type": "markdown",
   "id": "1d620730",
   "metadata": {},
   "source": [
    "# TASK 2: Calculate the number and occurrence of each orbit"
   ]
  },
  {
   "cell_type": "code",
   "execution_count": 7,
   "id": "df00b7f4",
   "metadata": {},
   "outputs": [
    {
     "data": {
      "text/plain": [
       "GTO      27\n",
       "ISS      21\n",
       "VLEO     14\n",
       "PO        9\n",
       "LEO       7\n",
       "SSO       5\n",
       "MEO       3\n",
       "ES-L1     1\n",
       "HEO       1\n",
       "SO        1\n",
       "GEO       1\n",
       "Name: Orbit, dtype: int64"
      ]
     },
     "execution_count": 7,
     "metadata": {},
     "output_type": "execute_result"
    }
   ],
   "source": [
    "#to determine the number and occurrence of each orbit in the column Orbit\n",
    "df['Orbit'].value_counts()"
   ]
  },
  {
   "cell_type": "markdown",
   "id": "5061f7e5",
   "metadata": {},
   "source": [
    "# TASK 3: Calculate the number and occurence of mission outcome per orbit type"
   ]
  },
  {
   "cell_type": "code",
   "execution_count": 8,
   "id": "793f4389",
   "metadata": {},
   "outputs": [],
   "source": [
    "#to determine the number of landing_outcomes.\n",
    "#Then assign it to a variable landing_outcomes.\n"
   ]
  },
  {
   "cell_type": "raw",
   "id": "da752645",
   "metadata": {},
   "source": [
    "#True Ocean means the mission outcome was successfully landed to a specific region of the ocean.\n",
    "\n",
    "#False Ocean means the mission outcome was unsuccessfully landed to a specific region of the ocean.\n",
    "\n",
    "#True RTLS means the mission outcome was successfully landed to a ground pad.\n",
    "\n",
    "#False RTLS means the mission outcome was unsuccessfully landed to a ground pad.\n",
    "\n",
    "#True ASDS means the mission outcome was successfully landed on a drone ship.\n",
    "\n",
    "#False ASDS means the mission outcome was unsuccessfully landed on a drone ship."
   ]
  },
  {
   "cell_type": "code",
   "execution_count": 9,
   "id": "cb352ca3",
   "metadata": {},
   "outputs": [
    {
     "data": {
      "text/plain": [
       "True ASDS      41\n",
       "None None      19\n",
       "True RTLS      14\n",
       "False ASDS      6\n",
       "True Ocean      5\n",
       "False Ocean     2\n",
       "None ASDS       2\n",
       "False RTLS      1\n",
       "Name: Outcome, dtype: int64"
      ]
     },
     "execution_count": 9,
     "metadata": {},
     "output_type": "execute_result"
    }
   ],
   "source": [
    "landing_outcomes = df['Outcome'].value_counts()\n",
    "landing_outcomes"
   ]
  },
  {
   "cell_type": "code",
   "execution_count": 15,
   "id": "282b4557",
   "metadata": {},
   "outputs": [
    {
     "name": "stdout",
     "output_type": "stream",
     "text": [
      "0 True ASDS\n",
      "1 None None\n",
      "2 True RTLS\n",
      "3 False ASDS\n",
      "4 True Ocean\n",
      "5 False Ocean\n",
      "6 None ASDS\n",
      "7 False RTLS\n"
     ]
    }
   ],
   "source": [
    "for i, outcome in enumerate(landing_outcomes.keys()):\n",
    "    print(i,outcome)\n",
    "    "
   ]
  },
  {
   "cell_type": "code",
   "execution_count": 19,
   "id": "01a0b624",
   "metadata": {},
   "outputs": [
    {
     "data": {
      "text/plain": [
       "{'False ASDS', 'False Ocean', 'False RTLS', 'None ASDS', 'None None'}"
      ]
     },
     "execution_count": 19,
     "metadata": {},
     "output_type": "execute_result"
    }
   ],
   "source": [
    "\n",
    "#[['None None','False ASDS','False Ocean','None ASDS','False RTLS']]\n",
    "bad_outcomes=set(landing_outcomes.keys()[[1,3,5,6,7]])\n",
    "bad_outcomes"
   ]
  },
  {
   "cell_type": "markdown",
   "id": "b48e13a5",
   "metadata": {},
   "source": [
    "# TASK 4: Create a landing outcome label from Outcome column"
   ]
  },
  {
   "cell_type": "code",
   "execution_count": 20,
   "id": "6d9cd243",
   "metadata": {},
   "outputs": [],
   "source": [
    "df['Outcome'].replace({'False Ocean': 0, 'False ASDS': 0, 'None None': 0, 'None ASDS': 0, 'False RTLS': 0, 'True ASDS': 1, 'True RTLS': 1,'True Ocean': 1}, inplace = True)\n"
   ]
  },
  {
   "cell_type": "code",
   "execution_count": 21,
   "id": "9f64b885",
   "metadata": {},
   "outputs": [
    {
     "name": "stdout",
     "output_type": "stream",
     "text": [
      "<class 'pandas.core.frame.DataFrame'>\n",
      "RangeIndex: 90 entries, 0 to 89\n",
      "Data columns (total 17 columns):\n",
      " #   Column          Non-Null Count  Dtype  \n",
      "---  ------          --------------  -----  \n",
      " 0   FlightNumber    90 non-null     int64  \n",
      " 1   Date            90 non-null     object \n",
      " 2   BoosterVersion  90 non-null     object \n",
      " 3   PayloadMass     90 non-null     float64\n",
      " 4   Orbit           90 non-null     object \n",
      " 5   LaunchSite      90 non-null     object \n",
      " 6   Outcome         90 non-null     int64  \n",
      " 7   Flights         90 non-null     int64  \n",
      " 8   GridFins        90 non-null     bool   \n",
      " 9   Reused          90 non-null     bool   \n",
      " 10  Legs            90 non-null     bool   \n",
      " 11  LandingPad      64 non-null     object \n",
      " 12  Block           90 non-null     float64\n",
      " 13  ReusedCount     90 non-null     int64  \n",
      " 14  Serial          90 non-null     object \n",
      " 15  Longitude       90 non-null     float64\n",
      " 16  Latitude        90 non-null     float64\n",
      "dtypes: bool(3), float64(4), int64(4), object(6)\n",
      "memory usage: 10.2+ KB\n"
     ]
    }
   ],
   "source": [
    "\n",
    "df.info()"
   ]
  },
  {
   "cell_type": "code",
   "execution_count": 22,
   "id": "5a6960ac",
   "metadata": {},
   "outputs": [
    {
     "data": {
      "text/html": [
       "<div>\n",
       "<style scoped>\n",
       "    .dataframe tbody tr th:only-of-type {\n",
       "        vertical-align: middle;\n",
       "    }\n",
       "\n",
       "    .dataframe tbody tr th {\n",
       "        vertical-align: top;\n",
       "    }\n",
       "\n",
       "    .dataframe thead th {\n",
       "        text-align: right;\n",
       "    }\n",
       "</style>\n",
       "<table border=\"1\" class=\"dataframe\">\n",
       "  <thead>\n",
       "    <tr style=\"text-align: right;\">\n",
       "      <th></th>\n",
       "      <th>Class</th>\n",
       "    </tr>\n",
       "  </thead>\n",
       "  <tbody>\n",
       "    <tr>\n",
       "      <th>0</th>\n",
       "      <td>0</td>\n",
       "    </tr>\n",
       "    <tr>\n",
       "      <th>1</th>\n",
       "      <td>0</td>\n",
       "    </tr>\n",
       "    <tr>\n",
       "      <th>2</th>\n",
       "      <td>0</td>\n",
       "    </tr>\n",
       "    <tr>\n",
       "      <th>3</th>\n",
       "      <td>0</td>\n",
       "    </tr>\n",
       "    <tr>\n",
       "      <th>4</th>\n",
       "      <td>0</td>\n",
       "    </tr>\n",
       "    <tr>\n",
       "      <th>5</th>\n",
       "      <td>0</td>\n",
       "    </tr>\n",
       "    <tr>\n",
       "      <th>6</th>\n",
       "      <td>1</td>\n",
       "    </tr>\n",
       "    <tr>\n",
       "      <th>7</th>\n",
       "      <td>1</td>\n",
       "    </tr>\n",
       "  </tbody>\n",
       "</table>\n",
       "</div>"
      ],
      "text/plain": [
       "   Class\n",
       "0      0\n",
       "1      0\n",
       "2      0\n",
       "3      0\n",
       "4      0\n",
       "5      0\n",
       "6      1\n",
       "7      1"
      ]
     },
     "execution_count": 22,
     "metadata": {},
     "output_type": "execute_result"
    }
   ],
   "source": [
    "df['Class']= df['Outcome']\n",
    "df[['Class']].head(8)"
   ]
  },
  {
   "cell_type": "code",
   "execution_count": 23,
   "id": "2fb0245e",
   "metadata": {},
   "outputs": [
    {
     "data": {
      "text/plain": [
       "0.6666666666666666"
      ]
     },
     "execution_count": 23,
     "metadata": {},
     "output_type": "execute_result"
    }
   ],
   "source": [
    "df['Class'].mean()"
   ]
  },
  {
   "cell_type": "code",
   "execution_count": null,
   "id": "656d269a",
   "metadata": {},
   "outputs": [],
   "source": []
  },
  {
   "cell_type": "code",
   "execution_count": null,
   "id": "e9075c39",
   "metadata": {},
   "outputs": [],
   "source": []
  }
 ],
 "metadata": {
  "kernelspec": {
   "display_name": "Python 3 (ipykernel)",
   "language": "python",
   "name": "python3"
  },
  "language_info": {
   "codemirror_mode": {
    "name": "ipython",
    "version": 3
   },
   "file_extension": ".py",
   "mimetype": "text/x-python",
   "name": "python",
   "nbconvert_exporter": "python",
   "pygments_lexer": "ipython3",
   "version": "3.9.7"
  }
 },
 "nbformat": 4,
 "nbformat_minor": 5
}
